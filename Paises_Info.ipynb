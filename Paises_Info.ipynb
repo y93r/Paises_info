{
 "cells": [
  {
   "cell_type": "code",
   "execution_count": 1,
   "id": "4b25fa5a",
   "metadata": {},
   "outputs": [],
   "source": [
    "#!pip install countryinfo"
   ]
  },
  {
   "cell_type": "code",
   "execution_count": 24,
   "id": "7c3785a2",
   "metadata": {},
   "outputs": [
    {
     "name": "stdout",
     "output_type": "stream",
     "text": [
      "Digite em inglês o nome do país que deseja obter mais informações: turkey\n",
      "\n",
      "\n",
      "Nome nativo: Türkiye\n",
      "País: Turkey\n",
      "Capital: Ankara\n",
      "Gentílico: Turkish\n",
      "Idiomas: ['tr']\n",
      "Moedas: ['TRY']\n",
      "População: 76667864\n",
      "Fuso horário: ['UTC+02:00']\n",
      "Área por km²: 783562\n",
      "Domínio: ['.tr']\n",
      "Código de área: ['90']\n",
      "Fronteira com: ['ARM', 'AZE', 'BGR', 'GEO', 'GRC', 'IRN', 'IRQ', 'SYR']\n",
      "Continente: Asia\n",
      "Sub-região: Western Asia\n",
      "Link no wikipedia para mais: http://en.wikipedia.org/wiki/turkey\n"
     ]
    }
   ],
   "source": [
    "from countryinfo import CountryInfo\n",
    "\n",
    "try:\n",
    "    pais = CountryInfo(input(f'Digite em inglês o nome do país que deseja obter mais informações: '))\n",
    "    print('\\n')\n",
    "    print(f'Nome nativo: {pais.native_name().title()}')\n",
    "    print(f'País: {pais.name().title()}')\n",
    "    print(f'Capital: {pais.capital()}')\n",
    "    print(f'Gentílico: {pais.demonym()}')\n",
    "    print(f'Idiomas: {pais.languages()}')\n",
    "    print(f'Moedas: {pais.currencies()}')\n",
    "    print(f'População: {pais.population()}')\n",
    "    print(f'Fuso horário: {pais.timezones()}')\n",
    "    print(f'Área por km²: {pais.area()}')\n",
    "    print(f'Domínio: {pais.tld()}')\n",
    "    print(f'Código de área: {pais.calling_codes()}')\n",
    "    print(f'Fronteira com: {pais.borders()}')\n",
    "    print(f'Continente: {pais.region()}')\n",
    "    print(f'Sub-região: {pais.subregion()}')\n",
    "    print(f'Link no wikipedia para mais: {pais.wiki()}')\n",
    "except:\n",
    "    print('País não identificado!')"
   ]
  },
  {
   "cell_type": "code",
   "execution_count": null,
   "id": "7fc488e1",
   "metadata": {},
   "outputs": [],
   "source": []
  }
 ],
 "metadata": {
  "kernelspec": {
   "display_name": "Python 3 (ipykernel)",
   "language": "python",
   "name": "python3"
  },
  "language_info": {
   "codemirror_mode": {
    "name": "ipython",
    "version": 3
   },
   "file_extension": ".py",
   "mimetype": "text/x-python",
   "name": "python",
   "nbconvert_exporter": "python",
   "pygments_lexer": "ipython3",
   "version": "3.9.12"
  }
 },
 "nbformat": 4,
 "nbformat_minor": 5
}
